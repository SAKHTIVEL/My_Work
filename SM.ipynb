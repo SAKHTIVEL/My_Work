{
 "cells": [
  {
   "cell_type": "code",
   "execution_count": 25,
   "metadata": {},
   "outputs": [],
   "source": [
    "import xlrd\n",
    "import pandas as pd"
   ]
  },
  {
   "cell_type": "code",
   "execution_count": 26,
   "metadata": {},
   "outputs": [
    {
     "output_type": "execute_result",
     "data": {
      "text/plain": "   S.NO    REG NO  STUDENTS NAME  Seminar1  Seminar 2 IT1  IT2  Assignment1  \\\n0     1  18213076      SUBHASH.J       NaN        NaN  AB    5          NaN   \n1     2  18213080        SURYA.B       NaN        NaN  19  NaN          NaN   \n2     3  18213081        SURYA.R       NaN        NaN  AB   27         20.0   \n3     4  18213084        TARUN R       NaN        NaN  29  NaN         20.0   \n4     5  18213085  UDHAYAKIRAN R       NaN        NaN  28   20         20.0   \n\n   Assignment2  Assignment3  \n0          NaN          NaN  \n1          NaN          NaN  \n2         20.0         20.0  \n3         20.0         20.0  \n4         20.0         20.0  ",
      "text/html": "<div>\n<style scoped>\n    .dataframe tbody tr th:only-of-type {\n        vertical-align: middle;\n    }\n\n    .dataframe tbody tr th {\n        vertical-align: top;\n    }\n\n    .dataframe thead th {\n        text-align: right;\n    }\n</style>\n<table border=\"1\" class=\"dataframe\">\n  <thead>\n    <tr style=\"text-align: right;\">\n      <th></th>\n      <th>S.NO</th>\n      <th>REG NO</th>\n      <th>STUDENTS NAME</th>\n      <th>Seminar1</th>\n      <th>Seminar 2</th>\n      <th>IT1</th>\n      <th>IT2</th>\n      <th>Assignment1</th>\n      <th>Assignment2</th>\n      <th>Assignment3</th>\n    </tr>\n  </thead>\n  <tbody>\n    <tr>\n      <th>0</th>\n      <td>1</td>\n      <td>18213076</td>\n      <td>SUBHASH.J</td>\n      <td>NaN</td>\n      <td>NaN</td>\n      <td>AB</td>\n      <td>5</td>\n      <td>NaN</td>\n      <td>NaN</td>\n      <td>NaN</td>\n    </tr>\n    <tr>\n      <th>1</th>\n      <td>2</td>\n      <td>18213080</td>\n      <td>SURYA.B</td>\n      <td>NaN</td>\n      <td>NaN</td>\n      <td>19</td>\n      <td>NaN</td>\n      <td>NaN</td>\n      <td>NaN</td>\n      <td>NaN</td>\n    </tr>\n    <tr>\n      <th>2</th>\n      <td>3</td>\n      <td>18213081</td>\n      <td>SURYA.R</td>\n      <td>NaN</td>\n      <td>NaN</td>\n      <td>AB</td>\n      <td>27</td>\n      <td>20.0</td>\n      <td>20.0</td>\n      <td>20.0</td>\n    </tr>\n    <tr>\n      <th>3</th>\n      <td>4</td>\n      <td>18213084</td>\n      <td>TARUN R</td>\n      <td>NaN</td>\n      <td>NaN</td>\n      <td>29</td>\n      <td>NaN</td>\n      <td>20.0</td>\n      <td>20.0</td>\n      <td>20.0</td>\n    </tr>\n    <tr>\n      <th>4</th>\n      <td>5</td>\n      <td>18213085</td>\n      <td>UDHAYAKIRAN R</td>\n      <td>NaN</td>\n      <td>NaN</td>\n      <td>28</td>\n      <td>20</td>\n      <td>20.0</td>\n      <td>20.0</td>\n      <td>20.0</td>\n    </tr>\n  </tbody>\n</table>\n</div>"
     },
     "metadata": {},
     "execution_count": 26
    }
   ],
   "source": [
    "im = pd.read_excel(r'cad_cam internal calculation.xlsx')\n",
    "im.head()"
   ]
  },
  {
   "cell_type": "code",
   "execution_count": 27,
   "metadata": {},
   "outputs": [
    {
     "output_type": "execute_result",
     "data": {
      "text/plain": "14            ARUN J\n27    HARIKRISHNAN M\n40       MUKUNDHAN G\n41     NANDHAKUMAR N\n52        RAMASAMY C\n58       SASIKUMAR S\nName: STUDENTS NAME, dtype: object"
     },
     "metadata": {},
     "execution_count": 27
    }
   ],
   "source": [
    "internal1 = im.loc[im['IT1'].isna(),\"STUDENTS NAME\"]\n",
    "internal1"
   ]
  },
  {
   "cell_type": "code",
   "execution_count": 28,
   "metadata": {},
   "outputs": [
    {
     "output_type": "execute_result",
     "data": {
      "text/plain": "1              SURYA.B\n3              TARUN R\n10       PRAVEEN RAJ R\n14              ARUN J\n15        ASHOKKUMAR R\n27      HARIKRISHNAN M\n28        JEVANANDHA G\n29         KALANITHI P\n35            LOKESH R\n40         MUKUNDHAN G\n41       NANDHAKUMAR N\n42      NANDHANKUMAR S\n43       NANESHWARAN G\n45            NAVEEN A\n47      NAVEEN KUMAR A\n48      PACHAIYAPPAN N\n51         RAJENDRAN M\n52          RAMASAMY C\n53             RISHI M\n55    SANTHOSH KUMAR S\n56          SANTHOSH P\n58         SASIKUMAR S\n59              SIVA L\n60            SUBASH P\n61           TAMILAN R\n62      THIRUKUMARAN S\n66       VIJAYAKUMAR D\nName: STUDENTS NAME, dtype: object"
     },
     "metadata": {},
     "execution_count": 28
    }
   ],
   "source": [
    "internal2 = im.loc[im['IT2'].isna(),\"STUDENTS NAME\"]\n",
    "internal2"
   ]
  },
  {
   "cell_type": "code",
   "execution_count": 31,
   "metadata": {},
   "outputs": [
    {
     "output_type": "stream",
     "name": "stdout",
     "text": "number of studentds not submitted the assignment:  22\n"
    },
    {
     "output_type": "execute_result",
     "data": {
      "text/plain": "0          SUBHASH.J\n1            SURYA.B\n5          VIJAY A S\n6       VINAYKUMAR R\n9         YOHESH K V\n10     PRAVEEN RAJ R\n16          BALRAJ V\n17         BHARATH N\n19       CHENNARAJ V\n22          DINESH G\n24          DINESH R\n27    HARIKRISHNAN M\n34    LOKESH KUMAR S\n35          LOKESH R\n40       MUKUNDHAN G\n45          NAVEEN A\n46          NAVEEN G\n47    NAVEEN KUMAR A\n53           RISHI M\n59            SIVA L\n64         VASANTH M\n67          VIKRAM K\nName: STUDENTS NAME, dtype: object"
     },
     "metadata": {},
     "execution_count": 31
    }
   ],
   "source": [
    "assignment = im.loc[im['Assignment1'].isna(),\"STUDENTS NAME\"]\n",
    "print('number of studentds not submitted the assignment: ',len(assignment))\n",
    "assignment"
   ]
  },
  {
   "cell_type": "code",
   "execution_count": 37,
   "metadata": {},
   "outputs": [
    {
     "output_type": "execute_result",
     "data": {
      "text/plain": "    S.NO    REG NO STUDENTS NAME  Seminar1  Seminar 2 IT1 IT2  Assignment1  \\\n13    14  18284131  ARAVINDHAN R       NaN        NaN  32  17         20.0   \n\n    Assignment2  Assignment3  \n13         20.0         20.0  ",
      "text/html": "<div>\n<style scoped>\n    .dataframe tbody tr th:only-of-type {\n        vertical-align: middle;\n    }\n\n    .dataframe tbody tr th {\n        vertical-align: top;\n    }\n\n    .dataframe thead th {\n        text-align: right;\n    }\n</style>\n<table border=\"1\" class=\"dataframe\">\n  <thead>\n    <tr style=\"text-align: right;\">\n      <th></th>\n      <th>S.NO</th>\n      <th>REG NO</th>\n      <th>STUDENTS NAME</th>\n      <th>Seminar1</th>\n      <th>Seminar 2</th>\n      <th>IT1</th>\n      <th>IT2</th>\n      <th>Assignment1</th>\n      <th>Assignment2</th>\n      <th>Assignment3</th>\n    </tr>\n  </thead>\n  <tbody>\n    <tr>\n      <th>13</th>\n      <td>14</td>\n      <td>18284131</td>\n      <td>ARAVINDHAN R</td>\n      <td>NaN</td>\n      <td>NaN</td>\n      <td>32</td>\n      <td>17</td>\n      <td>20.0</td>\n      <td>20.0</td>\n      <td>20.0</td>\n    </tr>\n  </tbody>\n</table>\n</div>"
     },
     "metadata": {},
     "execution_count": 37
    }
   ],
   "source": [
    "check_internal = input('enter your register number')\n",
    "im[\"REG NO\"]=im[\"REG NO\"].astype(str)\n",
    "internal =im.loc[im['REG NO']==check_internal]\n",
    "internal"
   ]
  },
  {
   "cell_type": "code",
   "execution_count": null,
   "metadata": {},
   "outputs": [],
   "source": []
  }
 ],
 "metadata": {
  "language_info": {
   "codemirror_mode": {
    "name": "ipython",
    "version": 3
   },
   "file_extension": ".py",
   "mimetype": "text/x-python",
   "name": "python",
   "nbconvert_exporter": "python",
   "pygments_lexer": "ipython3",
   "version": "3.8.2-final"
  },
  "orig_nbformat": 2,
  "kernelspec": {
   "name": "python38264bitf7a6a75c061c4a7c9fd08c2da3516cf2",
   "display_name": "Python 3.8.2 64-bit"
  }
 },
 "nbformat": 4,
 "nbformat_minor": 2
}